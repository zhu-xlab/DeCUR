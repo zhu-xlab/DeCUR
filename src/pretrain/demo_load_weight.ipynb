{
 "cells": [
  {
   "cell_type": "code",
   "execution_count": 12,
   "metadata": {},
   "outputs": [],
   "source": [
    "import torch\n",
    "from torchvision import models"
   ]
  },
  {
   "cell_type": "markdown",
   "metadata": {},
   "source": [
    "load RN50 for simple SAR-optical fusion"
   ]
  },
  {
   "cell_type": "code",
   "execution_count": 13,
   "metadata": {},
   "outputs": [],
   "source": [
    "class LateFusionModel(torch.nn.Module):\n",
    "    def __init__(self,da=False):\n",
    "        super().__init__()\n",
    "        self.net1 = models.resnet50(pretrained=False)\n",
    "        self.net1.conv1 = torch.nn.Conv2d(2, 64, kernel_size=(7, 7), stride=(2, 2), padding=(3, 3), bias=False)\n",
    "        self.net1.fc = torch.nn.Identity()\n",
    "        self.net2 = models.resnet50(pretrained=False)\n",
    "        self.net2.conv1 = torch.nn.Conv2d(13, 64, kernel_size=(7, 7), stride=(2, 2), padding=(3, 3), bias=False)\n",
    "        self.net2.fc = torch.nn.Identity() \n",
    "        self.ffc = torch.nn.Linear(4096,19)    \n",
    "        self.da = da\n",
    "        if self.da:\n",
    "            from models.dat.dat_blocks import DAttentionBaseline\n",
    "\n",
    "            self.da1_l3 = DAttentionBaseline(\n",
    "                q_size=(14,14), kv_size=(14,14), n_heads=8, n_head_channels=128, n_groups=4,\n",
    "                attn_drop=0, proj_drop=0, stride=2, \n",
    "                offset_range_factor=-1, use_pe=True, dwc_pe=False,\n",
    "                no_off=False, fixed_pe=False, ksize=5, log_cpb=False\n",
    "            )\n",
    "\n",
    "            self.da1_l4 = DAttentionBaseline(\n",
    "                q_size=(7,7), kv_size=(7,7), n_heads=16, n_head_channels=128, n_groups=8,\n",
    "                attn_drop=0, proj_drop=0, stride=1, \n",
    "                offset_range_factor=-1, use_pe=True, dwc_pe=False,\n",
    "                no_off=False, fixed_pe=False, ksize=3, log_cpb=False\n",
    "            )\n",
    "\n",
    "            self.da2_l3 = DAttentionBaseline(\n",
    "                q_size=(14,14), kv_size=(14,14), n_heads=8, n_head_channels=128, n_groups=4,\n",
    "                attn_drop=0, proj_drop=0, stride=2, \n",
    "                offset_range_factor=-1, use_pe=True, dwc_pe=False,\n",
    "                no_off=False, fixed_pe=False, ksize=5, log_cpb=False\n",
    "            )\n",
    "\n",
    "            self.da2_l4 = DAttentionBaseline(\n",
    "                q_size=(7,7), kv_size=(7,7), n_heads=16, n_head_channels=128, n_groups=8,\n",
    "                attn_drop=0, proj_drop=0, stride=1, \n",
    "                offset_range_factor=-1, use_pe=True, dwc_pe=False,\n",
    "                no_off=False, fixed_pe=False, ksize=3, log_cpb=False\n",
    "            )\n",
    "\n",
    "\n",
    "    def forward_backbone(self, x, backbone, da_l3, da_l4):\n",
    "        x = backbone.conv1(x)\n",
    "        x = backbone.bn1(x)\n",
    "        x = backbone.relu(x)\n",
    "        x = backbone.maxpool(x)\n",
    "\n",
    "        x = backbone.layer1(x)\n",
    "        x = backbone.layer2(x)\n",
    "        x = backbone.layer3(x)\n",
    "        if self.da:\n",
    "            x1,_,_ = da_l3(x)\n",
    "            x = x + x1\n",
    "        x = backbone.layer4(x)\n",
    "        if self.da:\n",
    "            x2,_,_ = da_l4(x)\n",
    "            x = x + x2\n",
    "        x = backbone.avgpool(x)\n",
    "        x = torch.flatten(x, 1)\n",
    "        x = backbone.fc(x)\n",
    "        return x\n",
    "\n",
    "\n",
    "    def forward(self,s1,s2):\n",
    "        #z1 = self.net1(s1)\n",
    "        #z2 = self.net2(s2)\n",
    "        z1 = self.forward_backbone(s1, self.net1, self.da1_l3, self.da1_l4)\n",
    "        z2 = self.forward_backbone(s2, self.net2, self.da2_l3, self.da2_l4)\n",
    "        z12 = torch.cat((z1,z2),-1)\n",
    "        return self.ffc(z12)"
   ]
  },
  {
   "cell_type": "code",
   "execution_count": 4,
   "metadata": {},
   "outputs": [
    {
     "name": "stderr",
     "output_type": "stream",
     "text": [
      "/p/project/hai_ssl4eo/wang_yi/software/miniconda3/envs/dinov2/lib/python3.9/site-packages/torchvision/models/_utils.py:208: UserWarning: The parameter 'pretrained' is deprecated since 0.13 and may be removed in the future, please use 'weights' instead.\n",
      "  warnings.warn(\n",
      "/p/project/hai_ssl4eo/wang_yi/software/miniconda3/envs/dinov2/lib/python3.9/site-packages/torchvision/models/_utils.py:223: UserWarning: Arguments other than a weight enum or `None` for 'weights' are deprecated since 0.13 and may be removed in the future. The current behavior is equivalent to passing `weights=None`.\n",
      "  warnings.warn(msg)\n",
      "/p/project/hai_ssl4eo/wang_yi/software/miniconda3/envs/dinov2/lib/python3.9/site-packages/tqdm/auto.py:21: TqdmWarning: IProgress not found. Please update jupyter and ipywidgets. See https://ipywidgets.readthedocs.io/en/stable/user_install.html\n",
      "  from .autonotebook import tqdm as notebook_tqdm\n"
     ]
    }
   ],
   "source": [
    "net = LateFusionModel(da=True)"
   ]
  },
  {
   "cell_type": "code",
   "execution_count": 7,
   "metadata": {},
   "outputs": [],
   "source": [
    "pretrained = 'utils/rn50_rda_ssl4eo-s12_joint_decur_ep100.pth'\n",
    "state_dict = torch.load(pretrained)\n",
    "\n",
    "state_dict = {k.replace(\"module.backbone_1\", \"net1\"): v for k,v in state_dict.items()}\n",
    "state_dict = {k.replace(\"module.backbone_2\", \"net2\"): v for k,v in state_dict.items()}\n",
    "state_dict = {k.replace(\"module.\", \"\"): v for k,v in state_dict.items()}\n",
    "\n",
    "msg = net.load_state_dict(state_dict, strict=False)\n",
    "assert set(msg.missing_keys) == {\"ffc.weight\", \"ffc.bias\"}"
   ]
  },
  {
   "cell_type": "markdown",
   "metadata": {},
   "source": [
    "Load ViTS16 for multispectral"
   ]
  },
  {
   "cell_type": "code",
   "execution_count": 21,
   "metadata": {},
   "outputs": [],
   "source": [
    "pretrained = 'utils/vits16_ssl4eo-s12_ms_decur_ep100.pth'\n",
    "state_dict = torch.load(pretrained)\n",
    "\n",
    "import timm\n",
    "vit = timm.create_model('vit_small_patch16_224', pretrained=False)\n",
    "vit.patch_embed.proj = torch.nn.Conv2d(13, 384, kernel_size=(16, 16), stride=(16, 16))\n",
    "\n",
    "msg = vit.load_state_dict(state_dict, strict=False)\n",
    "assert set(msg.missing_keys) == {\"head.weight\", \"head.bias\"}\n",
    "\n"
   ]
  }
 ],
 "metadata": {
  "kernelspec": {
   "display_name": "dinov2",
   "language": "python",
   "name": "python3"
  },
  "language_info": {
   "codemirror_mode": {
    "name": "ipython",
    "version": 3
   },
   "file_extension": ".py",
   "mimetype": "text/x-python",
   "name": "python",
   "nbconvert_exporter": "python",
   "pygments_lexer": "ipython3",
   "version": "3.9.18"
  }
 },
 "nbformat": 4,
 "nbformat_minor": 2
}
